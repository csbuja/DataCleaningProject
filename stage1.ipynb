{
 "cells": [
  {
   "cell_type": "code",
   "execution_count": 1,
   "metadata": {},
   "outputs": [],
   "source": [
    "import pandas as pd\n",
    "import numpy as np"
   ]
  },
  {
   "cell_type": "markdown",
   "metadata": {},
   "source": [
    "## Getting rid of special characters in string as well as leading/trailing blanks"
   ]
  },
  {
   "cell_type": "code",
   "execution_count": 4,
   "metadata": {},
   "outputs": [],
   "source": [
    "def preprocess(x):\n",
    "    to_delete = \"()[];?\"\n",
    "    if type(x) != str:\n",
    "        return \"Unknown\"\n",
    "    else:\n",
    "        for c in to_delete:\n",
    "            x = x.replace(c,\"\")\n",
    "        x = x.strip()\n",
    "        return x.title()"
   ]
  },
  {
   "cell_type": "code",
   "execution_count": 5,
   "metadata": {},
   "outputs": [],
   "source": [
    "dish = pd.read_csv(\"Dish.csv\")\n",
    "dish['name'] = dish['name'].apply(preprocess)\n",
    "dish.to_csv(\"Dish_stage1.csv\",index=False)"
   ]
  },
  {
   "cell_type": "code",
   "execution_count": 6,
   "metadata": {},
   "outputs": [],
   "source": [
    "menu = pd.read_csv(\"Menu.csv\")\n",
    "for col in ['name','sponsor','event','venue','place','occasion','notes','location']:\n",
    "    menu[col] = menu[col].apply(preprocess)\n",
    "menu.to_csv(\"Menu_stage1.csv\",index=False)"
   ]
  },
  {
   "cell_type": "markdown",
   "metadata": {},
   "source": [
    "## Fixing an IC violation: created_at should be <= updated_at"
   ]
  },
  {
   "cell_type": "code",
   "execution_count": 7,
   "metadata": {},
   "outputs": [],
   "source": [
    "menuitem = pd.read_csv(\"MenuItem.csv\")\n",
    "menuitem.dropna(how='any',inplace=True)\n",
    "menuitem['created_at_old'] = menuitem['created_at']\n",
    "menuitem['updated_at_old'] = menuitem['updated_at']\n",
    "menuitem['created_at'] = menuitem.apply(lambda x:x['created_at_old'] if x['created_at_old'] <= x['updated_at_old'] else x['updated_at_old'],axis=1)\n",
    "menuitem['updated_at_at'] = menuitem.apply(lambda x:x['updated_at_old'] if x['created_at_old'] <= x['updated_at_old'] else x['created_at_old'],axis=1)\n",
    "menuitem.drop(columns=['created_at_old','updated_at_old'],inplace=True)\n",
    "menuitem.to_csv(\"MenuItem_stage1.csv\",index=False)"
   ]
  },
  {
   "cell_type": "code",
   "execution_count": null,
   "metadata": {},
   "outputs": [],
   "source": []
  }
 ],
 "metadata": {
  "kernelspec": {
   "display_name": "Python 3",
   "language": "python",
   "name": "python3"
  },
  "language_info": {
   "codemirror_mode": {
    "name": "ipython",
    "version": 3
   },
   "file_extension": ".py",
   "mimetype": "text/x-python",
   "name": "python",
   "nbconvert_exporter": "python",
   "pygments_lexer": "ipython3",
   "version": "3.7.9"
  }
 },
 "nbformat": 4,
 "nbformat_minor": 4
}
